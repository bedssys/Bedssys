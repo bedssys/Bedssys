{
 "cells": [
  {
   "cell_type": "markdown",
   "metadata": {},
   "source": [
    "## RNN for Human Activity Recognition - 2D Pose Input\n",
    "\n",
    "This experiment is the classification of human activities using a 2D pose time series dataset and an LSTM RNN.\n",
    "The idea is to prove the concept that using a series of 2D poses, rather than 3D poses or a raw 2D images, can produce an accurate estimation of the behaviour of a person or animal.\n",
    "This is a step towards creating a method of classifying an animal's current behaviour state and predicting it's likely next state, allowing for better interaction with an autonomous mobile robot.\n",
    "\n",
    "## Objectives\n",
    "\n",
    "The aims of this experiment are:\n",
    "\n",
    "-  To determine if 2D pose has comparable accuracy to 3D pose for use in activity recognition. This would allow the use of RGB only cameras for human and animal pose estimation, as opposed to RGBD or a large motion capture dataset.\n",
    "\n",
    "\n",
    "- To determine if  2D pose has comparable accuracy to using raw RGB images for use in activity recognition. This is based on the idea that limiting the input feature vector can help to deal with a limited dataset, as is likely to occur in animal activity recognition, by allowing for a smaller model to be used (citation required).\n",
    "\n",
    "\n",
    "- To verify the concept for use in future works involving behaviour prediction from motion in 2D images.\n",
    "\n",
    "The network used in this experiment is based on that of Guillaume Chevalier, 'LSTMs for Human Activity Recognition, 2016'  https://github.com/guillaume-chevalier/LSTM-Human-Activity-Recognition, available under the MIT License.\n",
    "Notable changes that have been made (other than accounting for dataset sizes) are:\n",
    " - Adapting for use with a large dataset ordered by class, using random sampling without replacement for mini-batch.  \n",
    " This allows for use of smaller batch sizes when using a dataset ordered by class. \"It has been observed in practice that when using a larger batch there is a significant degradation in the quality of the model, as measured by its ability to generalize\"  \n",
    "      _N.S Keskar, D. Mudigere, et al, 'On Large-Batch Training for Deep Learning: Generalization Gap and Sharp \n",
    "      Minima', ICLR 2017_ https://arxiv.org/abs/1609.04836\n",
    "      \n",
    " - Exponentially decaying learning rate implemented\n",
    "\n",
    "\n",
    "\n",
    "## Dataset overview\n",
    "\n",
    "The dataset consists of pose estimations, made using the software OpenPose (https://github.com/CMU-Perceptual-Computing-Lab/openpose's) on a subset of the Berkeley Multimodal Human Action Database (MHAD) dataset http://tele-immersion.citris-uc.org/berkeley_mhad.\n",
    "\n",
    "This dataset is comprised of 12 subjects doing the following 6 actions for 5 repetitions, filmed from 4 angles, repeated 5 times each.  \n",
    "\n",
    "- JUMPING,\n",
    "- JUMPING_JACKS,\n",
    "- BOXING,\n",
    "- WAVING_2HANDS,\n",
    "- WAVING_1HAND,\n",
    "- CLAPPING_HANDS.\n",
    "\n",
    "In total, there are 1438 videos (2 were missing) made up of 211200 individual frames.\n",
    "\n",
    "The below image is an example of the 4 camera views during the 'boxing' action for subject 1\n",
    "\n",
    "![alt text](images/boxing_all_views.gif.png \"Title\")\n",
    "\n",
    "The input for the LSTM is the 2D position of 18 joints across a timeseries of frames numbering n_steps (window-width), with an associated class label for the frame series.  \n",
    "A single frame's input (where j refers to a joint) is stored as:\n",
    "\n",
    "[  j0_x,  j0_y, j1_x, j1_y , j2_x, j2_y, j3_x, j3_y, j4_x, j4_y, j5_x, j5_y, j6_x, j6_y, j7_x, j7_y, j8_x, j8_y, j9_x, j9_y, j10_x, j10_y, j11_x, j11_y, j12_x, j12_y, j13_x, j13_y, j14_x, j14_y, j15_x, j15_y, j16_x, j16_y, j17_x, j17_y ]\n",
    "\n",
    "For the following experiment, very little preprocessing has been done to the dataset.  \n",
    "The following steps were taken:\n",
    "1. openpose run on individual frames, for each subject, action and view, outputting JSON of 18 joint x and y position keypoints and accuracies per frame\n",
    "2. JSONs converted into txt format, keeping only x and y positions of each frame, action being performed during frame, and order of frames. This is used to create a database of associated activity class number and corresponding series of joint 2D positions\n",
    "3. No further prepossessing was performed.  \n",
    "\n",
    "In some cases, multiple people were detected in each frame, in which only the first detection was used.\n",
    "\n",
    "The data has not been normalised with regards to subject position in the frame, motion across frame (if any), size of the subject, speed of action etc. It is essentially the raw 2D position of each joint viewed from a stationary camera.  \n",
    "In many cases, individual joints were not located and a position of [0.0,0.0] was given for that joint\n",
    "\n",
    "A summary of the dataset used for input is:\n",
    "\n",
    " - 211200 individual images \n",
    " - n_steps = 32 frames (~=1.5s at 22Hz)\n",
    " - Images with noisy pose detection (detection of >=2 people) = 5132  \n",
    " - Training_split = 0.8\n",
    " - Overlap = 0.8125 (26 / 32) ie 26 frame overlap\n",
    "   - Length X_train = 22625 * 32 frames\n",
    "   - Length X_test = 5751 * 32 frames\n",
    "   \n",
    "Note that their is no overlap between test and train sets, which were seperated by activity repetition entirely, before creating the 26 of 32 frame overlap.\n",
    "\n",
    "\n",
    "\n",
    "\n",
    "## Training and Results below: \n",
    "Training took approximately 4 mins running on a single GTX1080Ti, and was run for 22,000,000ish iterations with a batch size of 5000  (600 epochs)\n"
   ]
  },
  {
   "cell_type": "code",
   "execution_count": 1,
   "metadata": {
    "collapsed": true
   },
   "outputs": [],
   "source": [
    "import numpy as np\n",
    "import matplotlib\n",
    "import matplotlib.pyplot as plt\n",
    "import tensorflow as tf  # Version 1.0.0 (some previous versions are used in past commits)\n",
    "from sklearn import metrics\n",
    "import random\n",
    "from random import randint\n",
    "import time\n",
    "import os"
   ]
  },
  {
   "cell_type": "markdown",
   "metadata": {},
   "source": [
    "## Preparing dataset:"
   ]
  },
  {
   "cell_type": "code",
   "execution_count": 2,
   "metadata": {
    "collapsed": true
   },
   "outputs": [],
   "source": [
    "# Useful Constants\n",
    "\n",
    "# Output classes to learn how to classify\n",
    "# LABELS = [    \n",
    "#     \"JUMPING\",\n",
    "#     \"JUMPING_JACKS\",\n",
    "# #     \"BOXING\",\n",
    "#     \"WAVING_2HANDS\",\n",
    "#     \"WAVING_1HAND\",\n",
    "#     \"CLAPPING_HANDS\"\n",
    "# ] \n",
    "\n",
    "# LABELS = [    \n",
    "#     \"GO_IN\",\n",
    "#     \"GO_OUT\",\n",
    "#     \"WALK_LEFT\",\n",
    "#     \"WALK_RIGHT\"\n",
    "# ] \n",
    "\n",
    "# LABELS = [    \n",
    "#     \"normal\", \"anomaly\"\n",
    "# ] \n",
    "\n",
    "# LABELS = [\n",
    "#     \"jalan_UL\", \"jalan_DR\", \"jalan_UR\", \"jalan_DL\",\n",
    "#     \"sapu_UL\", \"sapu_DR\", \"sapu_UR\", \"sapu_DL\",\n",
    "#     # \"barang_UL\", \"barang_DR\", \"barang_UR\", \"barang_DL\",\n",
    "#     # \"out_door_SE\", \"out_door_SW\", \"in_door_SE\", \"in_door_SW\",\n",
    "#     \"idle\"\n",
    "# ]\n",
    "\n",
    "LABELS = [\n",
    "    \"jalan_DR\", \"jalan_UR\", \"jalan_DL\", \"jalan_UL\",\n",
    "    \"barang2_DR\", \"barang2_UR\", \"barang2_DL\", \"barang2_UL\",\n",
    "    \"barang1l_DR\", \"barang1l_UR\", \"barang1l_DL\", \"barang1l_UL\",\n",
    "    \"barang1r_DR\", \"barang1r_UR\", \"barang1r_DL\", \"barang1r_UL\",\n",
    "    \"idle_ND\"\n",
    "]\n",
    "\n",
    "# LABELS = [    \n",
    "#     \"jalan_NE\", \"jalan_NW\", \"jalan_SE\", \"jalan_SW\",\n",
    "#     \"menyapu_NE\", \"menyapu_NW\", \"menyapu_SE\", \"menyapu_SW\",\n",
    "#     \"barang_NE\", \"barang_NW\", \"barang_SE\", \"barang_SW\",\n",
    "#     \"diam_NE\", \"diam_NW\", \"diam_SE\", \"diam_SW\"\n",
    "# ] \n",
    "\n",
    "# DATASET_PATH = \"data/HAR_pose_activities/database/\"\n",
    "# DATASET_PATH = \"data/HAR_pose_activities/database/Training Default/\"\n",
    "\n",
    "# DATASET_PATH = \"data/Overlap_fixed4_separated/\"\n",
    "\n",
    "DATASET_PATH = \"data/Direct2a/NormalizeOnce/\"\n",
    "\n",
    "X_train_path = DATASET_PATH + \"X_train.txt\"\n",
    "X_test_path = DATASET_PATH + \"X_test.txt\"\n",
    "# X_test_path = \"utilities/something/something.txt\"\n",
    "\n",
    "y_train_path = DATASET_PATH + \"Y_train.txt\"\n",
    "y_test_path = DATASET_PATH + \"Y_test.txt\"\n",
    "\n",
    "# n_steps = 32 # 32 timesteps per series\n",
    "# n_steps = 1\n",
    "\n",
    "n_steps = 5\n",
    "# n_steps = 8"
   ]
  },
  {
   "cell_type": "code",
   "execution_count": 3,
   "metadata": {
    "collapsed": true
   },
   "outputs": [],
   "source": [
    "\n",
    "# Load the networks inputs\n",
    "\n",
    "def load_X(X_path):\n",
    "    file = open(X_path, 'r')\n",
    "    X_ = np.array(\n",
    "        [elem for elem in [\n",
    "            row.split(',') for row in file\n",
    "        ]], \n",
    "        dtype=np.float32\n",
    "    )\n",
    "    file.close()\n",
    "    blocks = int(len(X_) / n_steps)\n",
    "    \n",
    "    X_ = np.array(np.split(X_,blocks))\n",
    "\n",
    "    return X_ \n",
    "\n",
    "# Load the networks outputs\n",
    "\n",
    "def load_y(y_path):\n",
    "    file = open(y_path, 'r')\n",
    "    y_ = np.array(\n",
    "        [elem for elem in [\n",
    "            row.replace('  ', ' ').strip().split(' ') for row in file\n",
    "        ]], \n",
    "        dtype=np.int32\n",
    "    )\n",
    "    file.close()\n",
    "    \n",
    "    # for 0-based indexing \n",
    "    return y_ - 1\n",
    "\n",
    "X_train = load_X(X_train_path)\n",
    "X_test = load_X(X_test_path)\n",
    "#print X_test\n",
    "\n",
    "y_train = load_y(y_train_path)\n",
    "y_test = load_y(y_test_path)\n",
    "# proof that it actually works for the skeptical: replace labelled classes with random classes to train on\n",
    "#for i in range(len(y_train)):\n",
    "#    y_train[i] = randint(0, 5)\n"
   ]
  },
  {
   "cell_type": "markdown",
   "metadata": {},
   "source": [
    "## Set Parameters:\n"
   ]
  },
  {
   "cell_type": "code",
   "execution_count": 4,
   "metadata": {},
   "outputs": [
    {
     "name": "stdout",
     "output_type": "stream",
     "text": [
      "(X shape, y shape, every X's mean, every X's standard deviation)\n",
      "(4084, 5, 36) (4084, 1) 1.0150219 971.93854\n",
      "\n",
      "The dataset has not been preprocessed, is not normalised etc\n"
     ]
    }
   ],
   "source": [
    "# Input Data \n",
    "\n",
    "training_data_count = len(X_train)  # 4519 training series (with 50% overlap between each serie)\n",
    "test_data_count = len(X_test)  # 1197 test series\n",
    "n_input = len(X_train[0][0])  # num input parameters per timestep\n",
    "\n",
    "n_hidden = 36 # Hidden layer num of features\n",
    "# n_classes = 6 \n",
    "n_classes = len(LABELS)\n",
    "\n",
    "#updated for learning-rate decay\n",
    "# calculated as: decayed_learning_rate = init_learning_rate * decay_rate ^ (global_step / decay_steps)\n",
    "decaying_learning_rate = True\n",
    "learning_rate = 0.0025 #used if decaying_learning_rate set to False\n",
    "\n",
    "init_learning_rate = 0.005\n",
    "# init_learning_rate = 0.00015\n",
    "\n",
    "decay_rate = 0.96 #the base of the exponential in the decay\n",
    "decay_steps = 100000 #used in decay every 60000 steps with a base of 0.96\n",
    "\n",
    "global_step = tf.Variable(0, trainable=False)\n",
    "lambda_loss_amount = 0.0015\n",
    "\n",
    "# training_iters = training_data_count *300  # Loop 300 times on the dataset, ie 300 epochs\n",
    "# training_iters = training_data_count *60\n",
    "# training_iters = training_data_count *120\n",
    "# training_iters = training_data_count *1\n",
    "# batch_size = 5\n",
    "batch_size = 64\n",
    "# batch_size = 512\n",
    "display_iter = batch_size*8  # To show test set accuracy during training\n",
    "\n",
    "print(\"(X shape, y shape, every X's mean, every X's standard deviation)\")\n",
    "print(X_train.shape, y_test.shape, np.mean(X_test), np.std(X_test))\n",
    "print(\"\\nThe dataset has not been preprocessed, is not normalised etc\")\n",
    "\n",
    "\n"
   ]
  },
  {
   "cell_type": "markdown",
   "metadata": {},
   "source": [
    "## Utility functions for training:"
   ]
  },
  {
   "cell_type": "code",
   "execution_count": 5,
   "metadata": {
    "collapsed": true
   },
   "outputs": [],
   "source": [
    "def LSTM_RNN(_X, _weights, _biases):\n",
    "    # model architecture based on \"guillaume-chevalier\" and \"aymericdamien\" under the MIT license.\n",
    "\n",
    "    _X = tf.transpose(_X, [1, 0, 2])  # permute n_steps and batch_size\n",
    "    _X = tf.reshape(_X, [-1, n_input])   \n",
    "    # Rectifies Linear Unit activation function used\n",
    "    _X = tf.nn.relu(tf.matmul(_X, _weights['hidden']) + _biases['hidden'])\n",
    "    # Split data because rnn cell needs a list of inputs for the RNN inner loop\n",
    "    _X = tf.split(_X, n_steps, 0) \n",
    "\n",
    "    # Define two stacked LSTM cells (two recurrent layers deep) with tensorflow\n",
    "    lstm_cell_1 = tf.contrib.rnn.BasicLSTMCell(n_hidden, forget_bias=1.0, state_is_tuple=True)\n",
    "    lstm_cell_2 = tf.contrib.rnn.BasicLSTMCell(n_hidden, forget_bias=1.0, state_is_tuple=True)\n",
    "    lstm_cells = tf.contrib.rnn.MultiRNNCell([lstm_cell_1, lstm_cell_2], state_is_tuple=True)\n",
    "    outputs, states = tf.contrib.rnn.static_rnn(lstm_cells, _X, dtype=tf.float32)\n",
    "\n",
    "    # A single output is produced, in style of \"many to one\" classifier, refer to http://karpathy.github.io/2015/05/21/rnn-effectiveness/ for details\n",
    "    lstm_last_output = outputs[-1]\n",
    "    \n",
    "    # Linear activation\n",
    "    return tf.matmul(lstm_last_output, _weights['out']) + _biases['out']\n",
    "\n",
    "\n",
    "def extract_batch_size(_train, _labels, _unsampled, batch_size):\n",
    "    # Fetch a \"batch_size\" amount of data and labels from \"(X|y)_train\" data. \n",
    "    # Elements of each batch are chosen randomly, without replacement, from X_train with corresponding label from Y_train\n",
    "    # unsampled_indices keeps track of sampled data ensuring non-replacement. Resets when remaining datapoints < batch_size    \n",
    "    \n",
    "    shape = list(_train.shape)\n",
    "    shape[0] = batch_size\n",
    "    batch_s = np.empty(shape)\n",
    "    batch_labels = np.empty((batch_size,1)) \n",
    "\n",
    "    for i in range(batch_size):\n",
    "        # Loop index\n",
    "        # index = random sample from _unsampled (indices)\n",
    "        index = random.choice(_unsampled)\n",
    "        batch_s[i] = _train[index] \n",
    "        batch_labels[i] = _labels[index]\n",
    "        \n",
    "        _unsampled = list(_unsampled)\n",
    "        \n",
    "        _unsampled.remove(index)\n",
    "\n",
    "\n",
    "    return batch_s, batch_labels, _unsampled\n",
    "\n",
    "\n",
    "def one_hot(y_):\n",
    "    # One hot encoding of the network outputs\n",
    "    # e.g.: [[5], [0], [3]] --> [[0, 0, 0, 0, 0, 1], [1, 0, 0, 0, 0, 0], [0, 0, 0, 1, 0, 0]]\n",
    "    \n",
    "    y_ = y_.reshape(len(y_))\n",
    "    n_values = int(np.max(y_)) + 1\n",
    "    return np.eye(n_values)[np.array(y_, dtype=np.int32)]  # Returns FLOATS\n",
    "\n"
   ]
  },
  {
   "cell_type": "markdown",
   "metadata": {},
   "source": [
    "## Build the network:"
   ]
  },
  {
   "cell_type": "code",
   "execution_count": 6,
   "metadata": {
    "collapsed": true
   },
   "outputs": [],
   "source": [
    "# for _ in range(3):\n",
    "#     tf.reset_default_graph()\n",
    "#     var = tf.Variable(0)\n",
    "#     with tf.Session() as session:\n",
    "#         session.run(tf.global_variables_initializer())\n",
    "#         print(len(session.graph._nodes_by_name.keys()))"
   ]
  },
  {
   "cell_type": "code",
   "execution_count": 7,
   "metadata": {},
   "outputs": [
    {
     "name": "stdout",
     "output_type": "stream",
     "text": [
      "WARNING:tensorflow:From <ipython-input-5-488cfd9da3d0>:12: BasicLSTMCell.__init__ (from tensorflow.python.ops.rnn_cell_impl) is deprecated and will be removed in a future version.\n",
      "Instructions for updating:\n",
      "This class is deprecated, please use tf.nn.rnn_cell.LSTMCell, which supports all the feature this cell currently has. Please replace the existing code with tf.nn.rnn_cell.LSTMCell(name='basic_lstm_cell').\n",
      "WARNING:tensorflow:From <ipython-input-7-982ce1458cc4>:22: softmax_cross_entropy_with_logits (from tensorflow.python.ops.nn_ops) is deprecated and will be removed in a future version.\n",
      "Instructions for updating:\n",
      "\n",
      "Future major versions of TensorFlow will allow gradients to flow\n",
      "into the labels input on backprop by default.\n",
      "\n",
      "See `tf.nn.softmax_cross_entropy_with_logits_v2`.\n",
      "\n"
     ]
    }
   ],
   "source": [
    "\n",
    "# Graph input/output\n",
    "x = tf.placeholder(tf.float32, [None, n_steps, n_input])\n",
    "y = tf.placeholder(tf.float32, [None, n_classes])\n",
    "\n",
    "# Graph weights\n",
    "weights = {\n",
    "    'hidden': tf.Variable(tf.random_normal([n_input, n_hidden])), # Hidden layer weights\n",
    "    'out': tf.Variable(tf.random_normal([n_hidden, n_classes], mean=1.0))\n",
    "}\n",
    "biases = {\n",
    "    'hidden': tf.Variable(tf.random_normal([n_hidden])),\n",
    "    'out': tf.Variable(tf.random_normal([n_classes]))\n",
    "}\n",
    "\n",
    "pred = LSTM_RNN(x, weights, biases)\n",
    "\n",
    "# Loss, optimizer and evaluation\n",
    "l2 = lambda_loss_amount * sum(\n",
    "    tf.nn.l2_loss(tf_var) for tf_var in tf.trainable_variables()\n",
    ") # L2 loss prevents this overkill neural network to overfit the data\n",
    "cost = tf.reduce_mean(tf.nn.softmax_cross_entropy_with_logits(labels=y, logits=pred)) + l2 # Softmax loss\n",
    "if decaying_learning_rate:\n",
    "    learning_rate = tf.train.exponential_decay(init_learning_rate, global_step*batch_size, decay_steps, decay_rate, staircase=True)\n",
    "\n",
    "\n",
    "#decayed_learning_rate = learning_rate * decay_rate ^ (global_step / decay_steps) #exponentially decayed learning rate\n",
    "optimizer = tf.train.AdamOptimizer(learning_rate=learning_rate).minimize(cost,global_step=global_step) # Adam Optimizer\n",
    "\n",
    "# correct_pred = tf.equal(tf.argmax(pred,1), tf.argmax(y,1))\n",
    "# accuracy = tf.reduce_mean(tf.cast(correct_pred, tf.float32))\n",
    "\n"
   ]
  },
  {
   "cell_type": "code",
   "execution_count": 8,
   "metadata": {},
   "outputs": [
    {
     "name": "stdout",
     "output_type": "stream",
     "text": [
      "{'hidden': <tf.Variable 'Variable_3:0' shape=(36,) dtype=float32_ref>, 'out': <tf.Variable 'Variable_4:0' shape=(17,) dtype=float32_ref>}\n",
      "<tf.Variable 'Variable_1:0' shape=(36, 36) dtype=float32_ref>\n"
     ]
    }
   ],
   "source": [
    "print(biases)\n",
    "print(weights['hidden'])"
   ]
  },
  {
   "cell_type": "code",
   "execution_count": 9,
   "metadata": {
    "collapsed": true
   },
   "outputs": [],
   "source": [
    "# if decaying_learning_rate:\n",
    "#     learning_rate = tf.train.exponential_decay(init_learning_rate, global_step*batch_size, decay_steps, decay_rate, staircase=True)"
   ]
  },
  {
   "cell_type": "markdown",
   "metadata": {},
   "source": [
    "## Train the network:"
   ]
  },
  {
   "cell_type": "code",
   "execution_count": 10,
   "metadata": {
    "collapsed": true
   },
   "outputs": [],
   "source": [
    "test_losses = []\n",
    "test_accuracies = []\n",
    "train_losses = []\n",
    "train_accuracies = []\n",
    "sess = tf.InteractiveSession(config=tf.ConfigProto(log_device_placement=True))\n",
    "init = tf.global_variables_initializer()\n",
    "\n",
    "sess.run(init)"
   ]
  },
  {
   "cell_type": "code",
   "execution_count": 11,
   "metadata": {},
   "outputs": [
    {
     "name": "stdout",
     "output_type": "stream",
     "text": [
      "INFO:tensorflow:Restoring parameters from data/Direct2/NormalizeOnce/model.ckpt\n",
      "Model restored.\n"
     ]
    }
   ],
   "source": [
    "# training_iters = training_data_count *120\n",
    "# training_iters = training_data_count *5120\n",
    "# training_iters = training_data_count *2560\n",
    "\n",
    "# training_iters = training_data_count *512\n",
    "# training_iters = training_data_count *1024\n",
    "training_iters = training_data_count *1024\n",
    "# training_iters = training_data_count *5120\n",
    "\n",
    "#create saver before training\n",
    "# saver = tf.train.Saver()\n",
    "saver = tf.train.Saver(var_list={'wh':weights['hidden'], 'wo':weights['out'], 'bh':biases['hidden'], 'bo':biases['out']})\n",
    "load = False\n",
    "train = True\n",
    "update = True\n",
    "\n",
    "#check if you want to retrain or import a saved model\n",
    "if load:\n",
    "    saver.restore(sess, DATASET_PATH + \"model.ckpt\")\n",
    "    print(\"Model restored.\")\n",
    "\n",
    "correct_pred = tf.equal(tf.argmax(pred,1), tf.argmax(y,1))\n",
    "accuracy = tf.reduce_mean(tf.cast(correct_pred, tf.float32))"
   ]
  },
  {
   "cell_type": "code",
   "execution_count": 12,
   "metadata": {
    "scrolled": true
   },
   "outputs": [
    {
     "name": "stdout",
     "output_type": "stream",
     "text": [
      "PERFORMANCE ON TRAIN SET:             Batch Loss = 3.1076486110687256, Accuracy = 0.06464250385761261\n",
      "PERFORMANCE ON TEST SET:             Batch Loss = 3.1076486110687256, Accuracy = 0.06464250385761261\n",
      "Optimization Finished!\n",
      "FINAL RESULT: Batch Loss = 3.1076486110687256, Accuracy = 0.06464250385761261\n",
      "TOTAL TIME:  5.0759501457214355\n"
     ]
    }
   ],
   "source": [
    "# Perform Training steps with \"batch_size\" amount of data at each loop. \n",
    "# Elements of each batch are chosen randomly, without replacement, from X_train, \n",
    "# restarting when remaining datapoints < batch_size\n",
    "step = 1\n",
    "time_start = time.time()\n",
    "unsampled_indices = range(0,len(X_train))\n",
    "\n",
    "if not train:\n",
    "    \n",
    "    # only perform testing - on training set\n",
    "    loss, acc = sess.run(\n",
    "        [cost, accuracy], \n",
    "        feed_dict={\n",
    "            x: X_train,\n",
    "            y: one_hot(y_train)\n",
    "        }\n",
    "    )\n",
    "    \n",
    "    print(\"PERFORMANCE ON TRAIN SET:             \" + \\\n",
    "          \"Batch Loss = {}\".format(loss) + \\\n",
    "          \", Accuracy = {}\".format(acc))\n",
    "    \n",
    "    # only perform testing - on test set\n",
    "    loss, acc = sess.run(\n",
    "        [cost, accuracy], \n",
    "        feed_dict={\n",
    "            x: X_test,\n",
    "            y: one_hot(y_test)\n",
    "        }\n",
    "    )\n",
    "    \n",
    "    print(\"PERFORMANCE ON TEST SET:             \" + \\\n",
    "          \"Batch Loss = {}\".format(loss) + \\\n",
    "          \", Accuracy = {}\".format(acc))\n",
    "\n",
    "while train and (step * batch_size <= training_iters):\n",
    "    #print (sess.run(learning_rate)) #decaying learning rate\n",
    "    #print (sess.run(global_step)) # global number of iterations\n",
    "    if len(unsampled_indices) < batch_size:\n",
    "        unsampled_indices = range(0,len(X_train)) \n",
    "    batch_xs, raw_labels, unsampled_indicies = extract_batch_size(X_train, y_train, unsampled_indices, batch_size)\n",
    "    batch_ys = one_hot(raw_labels)\n",
    "    # check that encoded output is same length as num_classes, if not, pad it \n",
    "    if len(batch_ys[0]) < n_classes:\n",
    "        temp_ys = np.zeros((batch_size, n_classes))\n",
    "        temp_ys[:batch_ys.shape[0],:batch_ys.shape[1]] = batch_ys\n",
    "        batch_ys = temp_ys\n",
    "       \n",
    "    # Fit training using batch data\n",
    "    _, loss, acc = sess.run(\n",
    "        [optimizer, cost, accuracy],\n",
    "        feed_dict={\n",
    "            x: batch_xs, \n",
    "            y: batch_ys\n",
    "        }\n",
    "    )\n",
    "    train_losses.append(loss)\n",
    "    train_accuracies.append(acc)\n",
    "    \n",
    "    # Evaluate network only at some steps for faster training: \n",
    "    if (step*batch_size % display_iter == 0) or (step == 1) or (step * batch_size > training_iters):\n",
    "        \n",
    "        # To not spam console, show training accuracy/loss in this \"if\"\n",
    "        print(\"Iter #\" + str(step*batch_size) + \\\n",
    "              \":  Learning rate = \" + \"{:.6f}\".format(sess.run(learning_rate)) + \\\n",
    "              \":   Batch Loss = \" + \"{:.6f}\".format(loss) + \\\n",
    "              \", Accuracy = {}\".format(acc))\n",
    "        \n",
    "        # Evaluation on the test set (no learning made here - just evaluation for diagnosis)\n",
    "        loss, acc = sess.run(\n",
    "            [cost, accuracy], \n",
    "            feed_dict={\n",
    "                x: X_test,\n",
    "                y: one_hot(y_test)\n",
    "            }\n",
    "        )\n",
    "        test_losses.append(loss)\n",
    "        test_accuracies.append(acc)\n",
    "        print(\"PERFORMANCE ON TEST SET:             \" + \\\n",
    "              \"Batch Loss = {}\".format(loss) + \\\n",
    "              \", Accuracy = {}\".format(acc))\n",
    "\n",
    "    step += 1\n",
    "\n",
    "print(\"Optimization Finished!\")\n",
    "\n",
    "# Accuracy for test data\n",
    "\n",
    "one_hot_predictions, accuracy_fin, final_loss = sess.run(\n",
    "    [pred, accuracy, cost],\n",
    "    feed_dict={\n",
    "        x: X_test,\n",
    "        y: one_hot(y_test)\n",
    "    }\n",
    ")\n",
    "\n",
    "test_losses.append(final_loss)\n",
    "test_accuracies.append(accuracy_fin)\n",
    "\n",
    "print(\"FINAL RESULT: \" + \\\n",
    "      \"Batch Loss = {}\".format(final_loss) + \\\n",
    "      \", Accuracy = {}\".format(accuracy_fin))\n",
    "time_stop = time.time()\n",
    "print(\"TOTAL TIME:  {}\".format(time_stop - time_start))"
   ]
  },
  {
   "cell_type": "code",
   "execution_count": 13,
   "metadata": {
    "collapsed": true
   },
   "outputs": [],
   "source": [
    "##### Check if you want to save your current model\n",
    "if update:\n",
    "    save_path = saver.save(sess, DATASET_PATH + \"model.ckpt\")\n",
    "    print(\"Model saved in file: %s\" % save_path)"
   ]
  },
  {
   "cell_type": "code",
   "execution_count": 14,
   "metadata": {},
   "outputs": [
    {
     "name": "stdout",
     "output_type": "stream",
     "text": [
      "[array([[-2.9371193e-02,  2.9722407e-01, -2.2613093e-01, ...,\n",
      "         4.3590581e-01, -1.4388056e-01, -4.8369080e-01],\n",
      "       [ 1.3757952e-01,  3.5810225e-02,  1.9745901e-05, ...,\n",
      "         2.5777239e-01, -1.8681531e-01, -2.6889184e-01],\n",
      "       [ 4.2682797e-01, -1.3086919e-01,  3.6037925e-01, ...,\n",
      "        -4.6198684e-01, -1.8227482e-01, -3.2381928e-01],\n",
      "       ...,\n",
      "       [ 9.8336793e-02, -5.1622942e-02, -2.5686362e-01, ...,\n",
      "         7.2536454e-02, -3.0350649e-01, -6.9768742e-02],\n",
      "       [ 2.5812304e-01, -1.1605909e-01, -3.3461177e-01, ...,\n",
      "         2.1898083e-01,  9.8142177e-03, -1.6639212e-01],\n",
      "       [ 3.9791730e-01,  3.4206584e-01, -5.0414383e-02, ...,\n",
      "        -1.4938489e-01, -3.0389702e-01, -4.5142800e-01]], dtype=float32)]\n"
     ]
    }
   ],
   "source": [
    "##### Inferencing\n",
    "\n",
    "# X_infer_path = \"utilities/something/something.txt\"\n",
    "X_infer_path = DATASET_PATH + \"X_test.txt\"\n",
    "\n",
    "X_val = load_X(X_infer_path)\n",
    "\n",
    "preds = sess.run(\n",
    "    [pred],\n",
    "    feed_dict={\n",
    "        x: X_val\n",
    "   }\n",
    ")\n",
    "\n",
    "print(preds)"
   ]
  },
  {
   "cell_type": "markdown",
   "metadata": {},
   "source": [
    "## Results:\n",
    "\n"
   ]
  },
  {
   "cell_type": "code",
   "execution_count": 15,
   "metadata": {
    "scrolled": false
   },
   "outputs": [
    {
     "name": "stdout",
     "output_type": "stream",
     "text": [
      "1\n",
      "0\n"
     ]
    },
    {
     "name": "stderr",
     "output_type": "stream",
     "text": [
      "D:\\PF~4\\Python\\AN~3\\lib\\site-packages\\matplotlib-3.0.2-py3.5-win-amd64.egg\\matplotlib\\font_manager.py:1241: UserWarning: findfont: Font family ['Bitstream Vera Sans'] not found. Falling back to DejaVu Sans.\n",
      "  (prop.get_family(), self.defaultFamily[fontext]))\n"
     ]
    },
    {
     "data": {
      "image/png": "[encoded data removed]",
      "text/plain": [
       "<Figure size 864x864 with 1 Axes>"
      ]
     },
     "metadata": {},
     "output_type": "display_data"
    },
    {
     "name": "stdout",
     "output_type": "stream",
     "text": [
      "Testing Accuracy: 6.464250385761261%\n",
      "\n"
     ]
    },
    {
     "name": "stderr",
     "output_type": "stream",
     "text": [
      "D:\\PF~4\\Python\\AN~3\\lib\\site-packages\\sklearn\\metrics\\classification.py:1143: UndefinedMetricWarning: Precision is ill-defined and being set to 0.0 in labels with no predicted samples.\n",
      "  'precision', 'predicted', average, warn_for)\n",
      "D:\\PF~4\\Python\\AN~3\\lib\\site-packages\\sklearn\\metrics\\classification.py:1143: UndefinedMetricWarning: F-score is ill-defined and being set to 0.0 in labels with no predicted samples.\n",
      "  'precision', 'predicted', average, warn_for)\n"
     ]
    },
    {
     "name": "stdout",
     "output_type": "stream",
     "text": [
      "Precision: 8.453003674977202%\n",
      "Recall: 6.464250734573946%\n",
      "f1_score: 6.567685475517861%\n",
      "\n",
      "Confusion Matrix:\n",
      "Created using test set of 4084 datapoints, normalised to % of each class in the test dataset\n"
     ]
    },
    {
     "data": {
      "image/png": "[encoded data removed]",
      "text/plain": [
       "<Figure size 864x864 with 2 Axes>"
      ]
     },
     "metadata": {},
     "output_type": "display_data"
    }
   ],
   "source": [
    "# (Inline plots: )\n",
    "%matplotlib inline\n",
    "\n",
    "font = {\n",
    "    'family' : 'Bitstream Vera Sans',\n",
    "    'weight' : 'bold',\n",
    "    'size'   : 18\n",
    "}\n",
    "matplotlib.rc('font', **font)\n",
    "\n",
    "width = 12\n",
    "height = 12\n",
    "plt.figure(figsize=(width, height))\n",
    "\n",
    "indep_train_axis = np.array(range(batch_size, (len(train_losses)+1)*batch_size, batch_size))\n",
    "#plt.plot(indep_train_axis, np.array(train_losses),     \"b--\", label=\"Train losses\")\n",
    "plt.plot(indep_train_axis, np.array(train_accuracies), \"g--\", label=\"Train accuracies\")\n",
    "\n",
    "indep_test_axis = np.append(\n",
    "    np.array(range(batch_size, len(test_losses)*display_iter, display_iter)[:-1]),\n",
    "    [training_iters]\n",
    ")\n",
    "#plt.plot(indep_test_axis, np.array(test_losses), \"b-\", linewidth=2.0, label=\"Test losses\")\n",
    "plt.plot(indep_test_axis, np.array(test_accuracies), \"b-\", linewidth=2.0, label=\"Test accuracies\")\n",
    "print(len(test_accuracies))\n",
    "print(len(train_accuracies))\n",
    "\n",
    "plt.title(\"Training session's Accuracy over Iterations\")\n",
    "plt.legend(loc='lower right', shadow=True)\n",
    "plt.ylabel('Training Accuracy')\n",
    "plt.xlabel('Training Iteration')\n",
    "\n",
    "plt.show()\n",
    "\n",
    "# Results\n",
    "\n",
    "predictions = one_hot_predictions.argmax(1)\n",
    "\n",
    "print(\"Testing Accuracy: {}%\".format(100*accuracy_fin))\n",
    "\n",
    "print(\"\")\n",
    "print(\"Precision: {}%\".format(100*metrics.precision_score(y_test, predictions, average=\"weighted\")))\n",
    "print(\"Recall: {}%\".format(100*metrics.recall_score(y_test, predictions, average=\"weighted\")))\n",
    "print(\"f1_score: {}%\".format(100*metrics.f1_score(y_test, predictions, average=\"weighted\")))\n",
    "\n",
    "print(\"\")\n",
    "print(\"Confusion Matrix:\")\n",
    "print(\"Created using test set of {} datapoints, normalised to % of each class in the test dataset\".format(len(y_test)))\n",
    "confusion_matrix = metrics.confusion_matrix(y_test, predictions)\n",
    "\n",
    "\n",
    "#print(confusion_matrix)\n",
    "normalised_confusion_matrix = np.array(confusion_matrix, dtype=np.float32)/np.sum(confusion_matrix)*100\n",
    "\n",
    "\n",
    "# Plot Results: \n",
    "width = 12\n",
    "height = 12\n",
    "plt.figure(figsize=(width, height))\n",
    "plt.imshow(\n",
    "    normalised_confusion_matrix, \n",
    "    interpolation='nearest', \n",
    "    cmap=plt.cm.Blues\n",
    ")\n",
    "plt.title(\"Confusion matrix \\n(normalised to % of total test data)\")\n",
    "plt.colorbar()\n",
    "tick_marks = np.arange(n_classes)\n",
    "plt.xticks(tick_marks, LABELS, rotation=90)\n",
    "plt.yticks(tick_marks, LABELS)\n",
    "plt.tight_layout()\n",
    "plt.ylabel('True label')\n",
    "plt.xlabel('Predicted label')\n",
    "plt.show()\n"
   ]
  },
  {
   "cell_type": "code",
   "execution_count": 16,
   "metadata": {
    "collapsed": true
   },
   "outputs": [],
   "source": [
    "\n",
    "\n",
    "#\n",
    "#X_val_path = DATASET_PATH + \"X_val.txt\"\n",
    "#X_val = load_X(X_val_path)\n",
    "#print X_val\n",
    "#\n",
    "#preds = sess.run(\n",
    "#    [pred],\n",
    "#    feed_dict={\n",
    "#        x: X_val\n",
    "#   }\n",
    "#)\n",
    "#\n",
    "#print preds"
   ]
  },
  {
   "cell_type": "code",
   "execution_count": 17,
   "metadata": {},
   "outputs": [
    {
     "name": "stdout",
     "output_type": "stream",
     "text": [
      "[0.064642504]\n"
     ]
    }
   ],
   "source": [
    "#sess.close()\n",
    "print(test_accuracies)"
   ]
  },
  {
   "cell_type": "markdown",
   "metadata": {},
   "source": [
    "## Conclusion\n",
    "\n",
    "Final accuracy of >90% is pretty good, considering that training takes about 7 minutes.\n",
    "\n",
    "Noticeable confusion between activities of Clapping Hands and Boxing, and between Jumping Jacks and Waving Two Hands which is understandable.\n",
    "\n",
    "In terms of the applicability of this to a wider dataset, I would imagine that it would be able to work for any activities in which the training included a views from all angles to be tested on. It would be interesting to see it's applicability to camera angles in between the 4 used in this dataset, without training on them specifically.\n",
    "\n",
    " Overall, this experiment validates the idea that 2D pose can be used for at least human activity recognition, and provides verification to continue onto use of 2D pose for behaviour estimation in both people and animals\n",
    " \n",
    "\n",
    " ### With regards to Using LSTM-RNNs\n",
    " - Batch sampling\n",
    "     - It is neccessary to ensure you are not just sampling classes one at a time! (ie y_train is ordered by class and batch chosen in order)The use of random sampling of batches without replacement from the training data resolves this.    \n",
    " \n",
    " - Architecture\n",
    "     - Testing has been run using a variety of hidden units per LSTM cell, with results showing that testing accuracy achieves a higher score when using a number of hidden cells approximately equal to that of the input, ie 34. The following figure displays the final accuracy achieved on the testing dataset for a variety of hidden units, all using a batch size of 4096 and 300 epochs (a total of 1657 iterations, with testing performed every 8th iteration).\n",
    "   \n",
    " \n",
    " \n",
    "\n",
    "## Future Works\n",
    "\n",
    "Inclusion of :\n",
    "\n",
    " - A pipeline for qualitative results\n",
    " - A validation dataset\n",
    " - Momentum     \n",
    " - Normalise input data (each point with respect to distribution of itself only)\n",
    " - Dropout\n",
    " - Comparison of effect of changing batch size\n",
    " \n",
    "\n",
    "Further research will be made into the use on more subtle activity classes, such as walking versus running, agitated movement versus calm movement, and perhaps normal versus abnormal behaviour, based on a baseline of normal motion.\n",
    "\n",
    "\n",
    "## References\n",
    "\n",
    "The dataset can be found at http://tele-immersion.citris-uc.org/berkeley_mhad released under the BSD-2 license\n",
    ">Copyright (c) 2013, Regents of the University of California All rights reserved.\n",
    "\n",
    "The network used in this experiment is based on the following, available under the [MIT License](https://github.com/guillaume-chevalier/LSTM-Human-Activity-Recognition/blob/master/LICENSE). :\n",
    "> Guillaume Chevalier, LSTMs for Human Activity Recognition, 2016\n",
    "> https://github.com/guillaume-chevalier/LSTM-Human-Activity-Recognition\n",
    "\n"
   ]
  },
  {
   "cell_type": "code",
   "execution_count": 18,
   "metadata": {
    "collapsed": true
   },
   "outputs": [],
   "source": [
    "# Let's convert this notebook to a README for the GitHub project's title page:\n",
    "# !jupyter nbconvert --to markdown LSTM.ipynb\n",
    "# !mv LSTM.md README.md"
   ]
  },
  {
   "cell_type": "markdown",
   "metadata": {},
   "source": [
    "## "
   ]
  },
  {
   "cell_type": "code",
   "execution_count": 19,
   "metadata": {
    "collapsed": true
   },
   "outputs": [],
   "source": [
    "#### Camera\n",
    "\n",
    "# import argparse\n",
    "# import logging\n",
    "# import time\n",
    "\n",
    "# import cv2\n",
    "# import numpy as np\n",
    "\n",
    "# from tf_pose.estimator import TfPoseEstimator\n",
    "# from tf_pose.networks import get_graph_path, model_wh\n",
    "\n",
    "# logger = logging.getLogger('TfPoseEstimator-WebCam')\n",
    "# logger.setLevel(logging.DEBUG)\n",
    "# ch = logging.StreamHandler()\n",
    "# ch.setLevel(logging.DEBUG)\n",
    "# formatter = logging.Formatter('[%(asctime)s] [%(name)s] [%(levelname)s] %(message)s')\n",
    "# ch.setFormatter(formatter)\n",
    "# logger.addHandler(ch)\n",
    "\n",
    "# class openpose:\n",
    "#     def __init__(self, camera=0,resize='0x0',resize_out_ratio=4.0,model='mobilenet_thin',show_process=False):\n",
    "\n",
    "#         logger.debug('initialization %s : %s' % (model, get_graph_path(model)))\n",
    "#         w, h = model_wh(resize)\n",
    "#         if w > 0 and h > 0:\n",
    "#             e = TfPoseEstimator(get_graph_path(model), target_size=(w, h))\n",
    "#         else:\n",
    "#             e = TfPoseEstimator(get_graph_path(model), target_size=(432, 368))\n",
    "#         logger.debug('cam read+')\n",
    "#         cam = cv2.VideoCapture(camera)\n",
    "#         ret_val, image = cam.read()\n",
    "#         logger.info('cam image=%dx%d' % (image.shape[1], image.shape[0]))\n",
    "        \n",
    "#         fps_time = 0\n",
    "\n",
    "#         while True:\n",
    "#             ret_val, image = cam.read()\n",
    "\n",
    "#             logger.debug('image process+')\n",
    "#             humans = e.inference(image, resize_to_default=(w > 0 and h > 0), upsample_size=resize_out_ratio)\n",
    "\n",
    "#             logger.debug('postprocess+')\n",
    "#             image = TfPoseEstimator.draw_humans(image, humans, imgcopy=False)\n",
    "\n",
    "#             logger.debug('show+')\n",
    "#             cv2.putText(image,\n",
    "#                         \"FPS: %f\" % (1.0 / (time.time() - fps_time)),\n",
    "#                         (10, 10),  cv2.FONT_HERSHEY_SIMPLEX, 0.5,\n",
    "#                         (0, 255, 0), 2)\n",
    "#             cv2.imshow('tf-pose-estimation result', image)\n",
    "#             fps_time = time.time()\n",
    "#             if cv2.waitKey(1) == 27:\n",
    "#                 break\n",
    "#             logger.debug('finished+')\n",
    "\n",
    "#         cv2.destroyAllWindows()\n",
    "\n",
    "# if __name__ == '__main__':\n",
    "#     openpose()\n"
   ]
  }
 ],
 "metadata": {
  "hide_input": false,
  "kernelspec": {
   "display_name": "Python 3",
   "language": "python",
   "name": "python3"
  },
  "language_info": {
   "codemirror_mode": {
    "name": "ipython",
    "version": 3
   },
   "file_extension": ".py",
   "mimetype": "text/x-python",
   "name": "python",
   "nbconvert_exporter": "python",
   "pygments_lexer": "ipython3",
   "version": "3.5.3"
  }
 },
 "nbformat": 4,
 "nbformat_minor": 2
}
